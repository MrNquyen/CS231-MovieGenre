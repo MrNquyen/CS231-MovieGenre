{
    "cells": [
        {
            "cell_type": "markdown",
            "metadata": {},
            "source": [
                "# IMPORT"
            ]
        },
        {
            "cell_type": "code",
            "execution_count": 23,
            "metadata": {},
            "outputs": [],
            "source": [
                "import numpy as np\n",
                "import json\n",
                "import os\n",
                "\n",
                "from tqdm import tqdm"
            ]
        },
        {
            "cell_type": "code",
            "execution_count": 9,
            "metadata": {},
            "outputs": [
                {
                    "name": "stderr",
                    "output_type": "stream",
                    "text": [
                        "'pwd' is not recognized as an internal or external command,\n",
                        "operable program or batch file.\n"
                    ]
                }
            ],
            "source": [
                "!pwd"
            ]
        },
        {
            "cell_type": "code",
            "execution_count": 11,
            "metadata": {},
            "outputs": [],
            "source": [
                "os.chdir('..')"
            ]
        },
        {
            "cell_type": "markdown",
            "metadata": {},
            "source": [
                "# FUNCTION"
            ]
        },
        {
            "cell_type": "code",
            "execution_count": 17,
            "metadata": {},
            "outputs": [],
            "source": [
                "def load_json(path):\n",
                "    with open(path, 'r', encoding='utf-8') as file:\n",
                "        film_dic = json.load(file)\n",
                "        return film_dic\n"
            ]
        },
        {
            "cell_type": "code",
            "execution_count": 16,
            "metadata": {},
            "outputs": [],
            "source": [
                "def save_json(dic, path):\n",
                "    with open(path, 'w', encoding='utf-8') as file:\n",
                "        film_dic = json.dump(dic, file, ensure_ascii=False, indent=6)\n",
                "        return film_dic"
            ]
        },
        {
            "cell_type": "code",
            "execution_count": 21,
            "metadata": {},
            "outputs": [],
            "source": [
                "def make_id(i, length=6):\n",
                "    im_id = str(i)\n",
                "    a = np.array(list(im_id))\n",
                "    b = np.pad(a, pad_width=(length - len(a), 0), mode='constant', constant_values= '0')\n",
                "    im_name = ''.join(b)\n",
                "\n",
                "    return im_name"
            ]
        },
        {
            "cell_type": "markdown",
            "metadata": {},
            "source": [
                "# LOAD DATA"
            ]
        },
        {
            "cell_type": "code",
            "execution_count": 20,
            "metadata": {},
            "outputs": [],
            "source": [
                "# PARA\n",
                "save_dir = 'data'\n",
                "film_save_names = os.listdir(save_dir)\n",
                "film_save_paths = [os.path.join(save_dir, name) for name in film_save_names]"
            ]
        },
        {
            "cell_type": "code",
            "execution_count": 31,
            "metadata": {},
            "outputs": [
                {
                    "name": "stderr",
                    "output_type": "stream",
                    "text": [
                        "100%|██████████| 7/7 [00:02<00:00,  3.23it/s]\n"
                    ]
                }
            ],
            "source": [
                "save_all = {}\n",
                "film_save_dicts = [load_json(path) for path in film_save_paths]\n",
                "i = 0\n",
                "for film_save_dict in tqdm(film_save_dicts):\n",
                "    for key, value in film_save_dict.items():\n",
                "        id_film = make_id(i)\n",
                "        i += 1\n",
                "        \n",
                "        # Save to save_all dict\n",
                "        if len(value['genre']) == 0 or  value['img_url'] == '':\n",
                "            continue\n",
                "        save_all[id_film] = value"
            ]
        },
        {
            "cell_type": "code",
            "execution_count": 32,
            "metadata": {},
            "outputs": [
                {
                    "data": {
                        "text/plain": [
                            "35435"
                        ]
                    },
                    "execution_count": 32,
                    "metadata": {},
                    "output_type": "execute_result"
                }
            ],
            "source": [
                "# Print number of record\n",
                "len(save_all)"
            ]
        },
        {
            "cell_type": "markdown",
            "metadata": {},
            "source": [
                "# PREPROCESSING"
            ]
        },
        {
            "cell_type": "code",
            "execution_count": null,
            "metadata": {},
            "outputs": [],
            "source": []
        }
    ],
    "metadata": {
        "kernelspec": {
            "display_name": "Python 3",
            "language": "python",
            "name": "python3"
        },
        "language_info": {
            "codemirror_mode": {
                "name": "ipython",
                "version": 3
            },
            "file_extension": ".py",
            "mimetype": "text/x-python",
            "name": "python",
            "nbconvert_exporter": "python",
            "pygments_lexer": "ipython3",
            "version": "3.12.1"
        }
    },
    "nbformat": 4,
    "nbformat_minor": 2
}
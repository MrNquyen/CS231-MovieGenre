{
 "cells": [
  {
   "cell_type": "code",
   "execution_count": 7,
   "metadata": {},
   "outputs": [],
   "source": [
    "import numpy as np\n",
    "import pandas as pd\n",
    "import seaborn as sns\n",
    "import matplotlib.pyplot as plt\n",
    "import json\n",
    "import os\n",
    "\n",
    "os.chdir(r'F:\\\\UNIVERSITY\\\\UNIVERSITY_DOCUMENTS\\\\CS231\\\\doan_v2')\n",
    "\n",
    "from utils.utils_fn import save_json, load_json\n",
    "from tqdm import tqdm"
   ]
  },
  {
   "cell_type": "code",
   "execution_count": null,
   "metadata": {},
   "outputs": [
    {
     "data": {
      "text/plain": [
       "24395"
      ]
     },
     "execution_count": 6,
     "metadata": {},
     "output_type": "execute_result"
    }
   ],
   "source": [
    "len(os.listdir('features_Densenet169'))"
   ]
  },
  {
   "cell_type": "code",
   "execution_count": 2,
   "metadata": {},
   "outputs": [],
   "source": [
    "path_dic = {\n",
    "    'train': '',\n",
    "    'val': '',\n",
    "    'test': '',\n",
    "}\n",
    "save_dir = 'data'\n",
    "for key in path_dic:\n",
    "    path_dic[key] = os.path.join(save_dir, f'{key}.json')"
   ]
  },
  {
   "cell_type": "code",
   "execution_count": 3,
   "metadata": {},
   "outputs": [],
   "source": [
    "im_save_dir = 'images'\n",
    "for set_name, path in path_dic.items():\n",
    "    # Load_json\n",
    "    set_json = load_json(path)\n",
    "    new_json = {}\n",
    "    for key, val in set_json.items():\n",
    "        val['img_path'] = f\"{im_save_dir}/{key}.png\" \n",
    "        new_json[key] = val\n",
    "    \n",
    "    # Save\n",
    "    save_json(new_json, path)"
   ]
  }
 ],
 "metadata": {
  "kernelspec": {
   "display_name": "Python 3",
   "language": "python",
   "name": "python3"
  },
  "language_info": {
   "codemirror_mode": {
    "name": "ipython",
    "version": 3
   },
   "file_extension": ".py",
   "mimetype": "text/x-python",
   "name": "python",
   "nbconvert_exporter": "python",
   "pygments_lexer": "ipython3",
   "version": "3.12.1"
  }
 },
 "nbformat": 4,
 "nbformat_minor": 2
}
